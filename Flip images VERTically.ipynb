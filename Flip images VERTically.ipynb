{
 "cells": [
  {
   "cell_type": "code",
   "execution_count": 1,
   "id": "66106e38-f9cb-47a0-827f-6b494784f003",
   "metadata": {},
   "outputs": [],
   "source": [
    "# Load required libraries\n",
    "import os\n",
    "from PIL import Image"
   ]
  },
  {
   "cell_type": "code",
   "execution_count": 3,
   "id": "c9f8ffbf-e3ec-41c1-8b5b-8dd33cde7ca1",
   "metadata": {},
   "outputs": [],
   "source": [
    "# Step 1 - paste in file paths to two folders\n",
    "input_folder = \"/Users/davidnguyen/Downloads/test\"\n",
    "output_folder = \"/Users/davidnguyen/Downloads/test output\""
   ]
  },
  {
   "cell_type": "code",
   "execution_count": 5,
   "id": "b68eb1b9-a8c4-4942-ab81-0a3d27af523a",
   "metadata": {},
   "outputs": [
    {
     "name": "stdout",
     "output_type": "stream",
     "text": [
      "Saved vertically flipped image: Practice Image for flipping_flipVert.tif\n",
      "Saved vertically flipped image: Tell Me Y_flipVert.jpg\n",
      "\n",
      "All images processed successfully!\n",
      "Flipped images are saved in: /Users/davidnguyen/Downloads/test output\n"
     ]
    }
   ],
   "source": [
    "# Step 2\n",
    "\n",
    "# Supported image file extensions\n",
    "valid_extensions = (\".jpg\", \".jpeg\", \".png\", \".bmp\", \".tiff\", \".tif\", \".webp\")\n",
    "\n",
    "# === MAIN SCRIPT ===\n",
    "for filename in os.listdir(input_folder):\n",
    "    # Skip hidden files (e.g., .DS_Store)\n",
    "    if filename.startswith('.'):\n",
    "        continue\n",
    "\n",
    "    if filename.lower().endswith(valid_extensions):\n",
    "        input_path = os.path.join(input_folder, filename)\n",
    "        img = Image.open(input_path)\n",
    "\n",
    "        # Flip vertically\n",
    "        flipped = img.transpose(Image.FLIP_TOP_BOTTOM)\n",
    "\n",
    "        # Create output filename\n",
    "        name, ext = os.path.splitext(filename)\n",
    "        output_filename = f\"{name}_flipVert{ext}\"\n",
    "        output_path = os.path.join(output_folder, output_filename)\n",
    "\n",
    "        # Save flipped image\n",
    "        flipped.save(output_path)\n",
    "        print(f\"Saved vertically flipped image: {output_filename}\")\n",
    "\n",
    "print(\"\\nAll images processed successfully!\")\n",
    "print(f\"Flipped images are saved in: {output_folder}\")"
   ]
  },
  {
   "cell_type": "code",
   "execution_count": null,
   "id": "430a494d-9e7e-4a45-8d51-47a88cd65d94",
   "metadata": {},
   "outputs": [],
   "source": []
  },
  {
   "cell_type": "code",
   "execution_count": null,
   "id": "08c82098-f2f0-4e91-924a-3443c6befcdd",
   "metadata": {},
   "outputs": [],
   "source": []
  }
 ],
 "metadata": {
  "kernelspec": {
   "display_name": "Python 3 (ipykernel)",
   "language": "python",
   "name": "python3"
  },
  "language_info": {
   "codemirror_mode": {
    "name": "ipython",
    "version": 3
   },
   "file_extension": ".py",
   "mimetype": "text/x-python",
   "name": "python",
   "nbconvert_exporter": "python",
   "pygments_lexer": "ipython3",
   "version": "3.12.4"
  }
 },
 "nbformat": 4,
 "nbformat_minor": 5
}
