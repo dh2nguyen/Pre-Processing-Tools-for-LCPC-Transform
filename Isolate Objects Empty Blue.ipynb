{
 "cells": [
  {
   "cell_type": "code",
   "execution_count": 1,
   "id": "721a0bd9",
   "metadata": {},
   "outputs": [],
   "source": [
    "###### BrainScanology, Inc — By Ali Ahmad, Modified by Dave Nguyen.\n",
    "\n",
    "# This script isolates each independent object in the input mask image as its own separate mask image. \n",
    "\n",
    "\n",
    "import cv2\n",
    "import os\n",
    "import numpy as np\n",
    "from matplotlib import pyplot as plt\n"
   ]
  },
  {
   "cell_type": "code",
   "execution_count": 2,
   "id": "edbccca0",
   "metadata": {},
   "outputs": [
    {
     "data": {
      "text/plain": [
       "['Origional Image.jpeg']"
      ]
     },
     "execution_count": 2,
     "metadata": {},
     "output_type": "execute_result"
    }
   ],
   "source": [
    "# Step 1 - Set working directory\n",
    "\n",
    "os.chdir('/Users/Desktop/Testing/Isolate Each Object')\n",
    "path = os.getcwd()\n",
    "# print(path)\n",
    "contents = os.listdir(path)\n",
    "\n",
    "####################################################################################\n",
    "####################################################################################\n",
    "####################################################################################\n",
    "# Step 2 - Remove hidden files from the list containing contents of the working directory\n",
    "\n",
    "# For some reason, this below for-loop* sometimes only removes one hidden file even though two are present. Thus, I \n",
    "# created a list of names of hidden files called hidden_files. I then created a function that removes items from a list. I then\n",
    "# run this function on all files in hidden_files.\n",
    "\n",
    "hidden_files = []\n",
    "\n",
    "# *this is the weird for-loop referenced above\n",
    "for item in contents:\n",
    "    if item.startswith(\".\") == True:\n",
    "        hidden_files.append(item)\n",
    "\n",
    "# hidden_files\n",
    "\n",
    "def remove_hidden(thing):\n",
    "    unwanted = thing\n",
    "    contents.remove(unwanted)\n",
    "\n",
    "for item in hidden_files:\n",
    "    remove_hidden(item)\n",
    "\n",
    "contents\n",
    "\n"
   ]
  },
  {
   "cell_type": "code",
   "execution_count": 3,
   "id": "221cf3df",
   "metadata": {},
   "outputs": [],
   "source": [
    "\n",
    "\n",
    "for stuff in contents:\n",
    "    \n",
    "    def name_copier(y):\n",
    "        fileName = y\n",
    "        return(fileName)\n",
    "\n",
    "    # This function returns TWO values. This function loads an image's name into cv2.imread, which is stored as \"the_im\",\n",
    "    # and then passes that name to be returned as a string that is stored as \"theName\"\n",
    "    def img_loader(x):\n",
    "        img = f'cv2.imread(\"{x}\")'\n",
    "        nombre = name_copier(x)\n",
    "        return eval(img), nombre\n",
    "    ########\n",
    "\n",
    "\n",
    "    # Part 1A.2: Load the image and copy its name\n",
    "    the_im, theName = img_loader(stuff)\n",
    "    image = the_im\n",
    "    image.shape\n",
    "    blur = cv2.bilateralFilter(image, 9, 40, 40)\n",
    "    #plotImage(blur)\n",
    "\n",
    "    img_bitwise_not = cv2.bitwise_not(blur)\n",
    "    #plotImage(img_bitwise_not)\n",
    "\n",
    "    ###############grayscale\n",
    "    img_gray = cv2.cvtColor(img_bitwise_not, cv2.COLOR_BGR2GRAY)\n",
    "    #plotImage(img_gray)\n",
    "\n",
    "    #############apply binary\n",
    "    ret, thresh = cv2.threshold(img_gray, 100, 255, cv2.THRESH_BINARY)\n",
    "    #plotImage(thresh)\n",
    "\n",
    "    ###############find and save all contours\n",
    "    contourList, _ = cv2.findContours(thresh, cv2.RETR_EXTERNAL, cv2.CHAIN_APPROX_NONE)\n",
    "\n",
    "    for idx, contour in enumerate(contourList):\n",
    "        mask = np.ones(image.shape[:2], dtype=\"uint8\") * 255\n",
    "        mask = cv2.cvtColor(mask,cv2.COLOR_GRAY2RGB)\n",
    "        cv2.drawContours(mask, contour, -1, (255 , 0, 0), 2)\n",
    "        cv2.drawContours(image, contour, -1, (0, 0, 255), 2)\n",
    "        split_string = theName.split(\".\", 1)\n",
    "        strippedName = split_string[0]\n",
    "        # strippedName\n",
    "\n",
    "        # add suffix to image that will be saved\n",
    "        new_name = f'{strippedName}_' \n",
    "        cv2.imwrite(new_name + \"Mask\" + str(idx) + \".jpg\", mask)\n",
    "\n"
   ]
  },
  {
   "cell_type": "code",
   "execution_count": null,
   "id": "2f39003c",
   "metadata": {},
   "outputs": [],
   "source": []
  }
 ],
 "metadata": {
  "kernelspec": {
   "display_name": "Python 3",
   "language": "python",
   "name": "python3"
  },
  "language_info": {
   "codemirror_mode": {
    "name": "ipython",
    "version": 3
   },
   "file_extension": ".py",
   "mimetype": "text/x-python",
   "name": "python",
   "nbconvert_exporter": "python",
   "pygments_lexer": "ipython3",
   "version": "3.11.0"
  },
  "vscode": {
   "interpreter": {
    "hash": "aee8b7b246df8f9039afb4144a1f6fd8d2ca17a180786b69acc140d282b71a49"
   }
  }
 },
 "nbformat": 4,
 "nbformat_minor": 5
}
