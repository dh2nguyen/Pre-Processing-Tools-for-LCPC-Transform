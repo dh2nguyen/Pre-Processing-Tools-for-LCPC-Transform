{
 "cells": [
  {
   "cell_type": "code",
   "execution_count": null,
   "id": "73c252ed-d951-490b-9e2d-d779f41e01c7",
   "metadata": {},
   "outputs": [],
   "source": [
    "# Ali Ahmad and David Nguyen, TSG Lab \n"
   ]
  },
  {
   "cell_type": "code",
   "execution_count": 1,
   "id": "99f9db5c-4c74-4cc4-b43a-14fcbcc358d6",
   "metadata": {},
   "outputs": [],
   "source": [
    "# Load the dependencies\n",
    "\n",
    "import cv2\n",
    "import numpy as np\n",
    "import os\n"
   ]
  },
  {
   "cell_type": "code",
   "execution_count": 5,
   "id": "2e6f0f65-70a5-4909-85a8-a4177e69d7e0",
   "metadata": {},
   "outputs": [
    {
     "data": {
      "text/plain": [
       "['Test Closed Shape_long-1.png', 'Test Closed Shape_long-2.png']"
      ]
     },
     "execution_count": 5,
     "metadata": {},
     "output_type": "execute_result"
    }
   ],
   "source": [
    "# Set working directory by changing the file path in the quotation marks\n",
    "\n",
    "os.chdir('/Users/davidnguyen/Downloads/temp')\n",
    "path = os.getcwd()\n",
    "# print(path)\n",
    "contents = os.listdir(path)\n",
    "contents\n",
    "hidden_files = []\n",
    "\n",
    "# *this is the weird for-loop referenced above\n",
    "for item in contents:\n",
    "    if item.startswith(\".\") == True:\n",
    "        hidden_files.append(item)\n",
    "\n",
    "contents\n"
   ]
  },
  {
   "cell_type": "code",
   "execution_count": 7,
   "id": "57f3b5f5-f832-46bd-ba5f-e1bfa647ef33",
   "metadata": {},
   "outputs": [],
   "source": [
    "# Load these functions\n",
    "\n",
    "def remove_hidden(thing):\n",
    "    unwanted = thing\n",
    "    contents.remove(unwanted)\n",
    "\n",
    "for item in hidden_files:\n",
    "    remove_hidden(item)\n",
    "\n",
    "def save_image(filename,image):\n",
    "    \n",
    "    split_string = filename.split(\".\", 1)\n",
    "    stripped_name = split_string[0]\n",
    "\n",
    "    # append suffix to the stripped file name\n",
    "    final_name = f'{stripped_name}_rot.jpg'\n",
    "    cv2.imwrite(final_name, image)"
   ]
  },
  {
   "cell_type": "code",
   "execution_count": 9,
   "id": "65ddb3ca-0730-46c6-b8cb-adea743714d9",
   "metadata": {},
   "outputs": [
    {
     "name": "stdout",
     "output_type": "stream",
     "text": [
      "Incorrectly rotated images: []\n"
     ]
    }
   ],
   "source": [
    "# Run this main loop\n",
    "\n",
    "\n",
    "for filename in contents:\n",
    "    \n",
    "    \n",
    "    # Load the image\n",
    "    image = cv2.imread(os.path.join(path,filename))\n",
    "    image_copy = image.copy()\n",
    "    origimage=image\n",
    "\n",
    "    # Convert the image to grayscale\n",
    "    gray = cv2.cvtColor(image, cv2.COLOR_BGR2GRAY)\n",
    "\n",
    "    # Apply Canny edge detection\n",
    "    edges = cv2.Canny(gray, 100, 200)\n",
    "\n",
    "    # Find contours in the edges\n",
    "    contours, _ = cv2.findContours(edges, cv2.RETR_EXTERNAL, cv2.CHAIN_APPROX_NONE)\n",
    "\n",
    "    # Sort the contours by their area (largest to smallest)\n",
    "    contours = sorted(contours, key=cv2.contourArea, reverse=True)\n",
    "\n",
    "\n",
    "    # Get the largest contour (irregular shape)\n",
    "    irregular_contour = contours[0]\n",
    "\n",
    "    # Calculate the maximum distance between two points of the irregular shape contour\n",
    "    max_distance = 0\n",
    "    point_1 = None\n",
    "    point_2 = None\n",
    "\n",
    "    for i in range(len(irregular_contour)):\n",
    "        for j in range(i + 1, len(irregular_contour)):\n",
    "            distance = np.linalg.norm(irregular_contour[i][0] - irregular_contour[j][0])\n",
    "            if distance > max_distance:\n",
    "                max_distance = distance\n",
    "                point_1 = tuple(irregular_contour[i][0])\n",
    "                point_2 = tuple(irregular_contour[j][0])\n",
    "\n",
    "    # Draw the longest line on the original image\n",
    "    cv2.line(image, point_1, point_2, (0, 0, 255), 2)\n",
    "\n",
    "    # Create a black image for drawing the contour\n",
    "    contour_image = np.zeros_like(image)\n",
    "\n",
    "    # Draw the contour on the separate image\n",
    "    cv2.drawContours(contour_image, [irregular_contour], 0, (0, 255, 0), 2)\n",
    "\n",
    "    # Calculate the rotation angle to make the line horizontal\n",
    "    angle = np.arctan2(point_2[1] - point_1[1], point_2[0] - point_1[0]) * 180 / np.pi\n",
    "\n",
    "    # Rotate the original image to make the line horizontal\n",
    "    rows, cols, _ = image_copy.shape\n",
    "    rotation_matrix = cv2.getRotationMatrix2D((cols // 2, rows // 2), angle, 1)\n",
    "    rotated_image = cv2.warpAffine(image_copy, rotation_matrix, (cols, rows), borderValue=(255, 255, 255))\n",
    "\n",
    "    # Remove the drawn line from the rotated image\n",
    "    rotated_image_no_line = rotated_image.copy()\n",
    "    #cv2.line(rotated_image_no_line, point_1, point_2, (0, 0, 0), 2)\n",
    "\n",
    "    save_image(filename,rotated_image_no_line)\n",
    "    \n",
    "def check_rotation_correctness(filename, rotated_image):\n",
    "    if \"_rot\" in filename:\n",
    "        # Convert the image to grayscale\n",
    "        gray = cv2.cvtColor(rotated_image, cv2.COLOR_BGR2GRAY)\n",
    "\n",
    "        # Apply Canny edge detection\n",
    "        edges = cv2.Canny(gray, 100, 200)\n",
    "\n",
    "        # Find contours in the edges\n",
    "        contours, _ = cv2.findContours(edges, cv2.RETR_EXTERNAL, cv2.CHAIN_APPROX_NONE)\n",
    "\n",
    "        # Sort the contours by their area (largest to smallest)\n",
    "        contours = sorted(contours, key=cv2.contourArea, reverse=True)\n",
    "\n",
    "        # Get the largest contour (irregular shape)\n",
    "        irregular_contour = contours[0]\n",
    "\n",
    "        # Calculate the orientation of the longest line in the contour\n",
    "        _, _, angle = cv2.fitLine(irregular_contour, cv2.DIST_L2, 0, 0.01, 0.01)\n",
    "\n",
    "        # If the line is not approximately horizontal within a tolerance, consider rotation incorrect\n",
    "        if abs(angle) > 5:  # You can adjust this tolerance level as needed\n",
    "            return True  # Rotation incorrect\n",
    "    return False  # Rotation correct\n",
    "\n",
    "\n",
    "incorrectly_rotated_images = []\n",
    "\n",
    "for filename in contents:\n",
    "    # Load the image\n",
    "    image = cv2.imread(os.path.join(path, filename))\n",
    "    image_copy = image.copy()\n",
    "\n",
    "    # Your existing rotation and saving code here...\n",
    "\n",
    "    # Check if the rotation is correct for \"_rot\" files\n",
    "    if check_rotation_correctness(filename, rotated_image_no_line):\n",
    "        incorrectly_rotated_images.append(filename)\n",
    "\n",
    "print(\"Incorrectly rotated images:\", incorrectly_rotated_images)"
   ]
  }
 ],
 "metadata": {
  "kernelspec": {
   "display_name": "Python 3 (ipykernel)",
   "language": "python",
   "name": "python3"
  },
  "language_info": {
   "codemirror_mode": {
    "name": "ipython",
    "version": 3
   },
   "file_extension": ".py",
   "mimetype": "text/x-python",
   "name": "python",
   "nbconvert_exporter": "python",
   "pygments_lexer": "ipython3",
   "version": "3.12.4"
  }
 },
 "nbformat": 4,
 "nbformat_minor": 5
}
