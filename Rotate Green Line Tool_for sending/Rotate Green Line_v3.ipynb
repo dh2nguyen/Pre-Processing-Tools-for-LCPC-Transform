{
 "cells": [
  {
   "cell_type": "code",
   "execution_count": 15,
   "id": "d966fe3d-f127-4080-ba05-889b648824a1",
   "metadata": {},
   "outputs": [],
   "source": [
    "        # Rotate Green Line\n",
    "# # David H Nguyen, PhD. \n",
    "\n",
    "# This version should print the name of the file that caused an error, so you know which file it was. \n",
    "\n",
    "### Instructions ###\n",
    "# 1. Input files MUST be in PAIRS. 1) The original image, 2) a copy of the original image. \n",
    "#   The copy image must have the characters \" copy\" at the end of its file name.\n",
    "# 2. The copy image must have a bright green line in it. The original image cannot have green color in it. \n",
    "# 3. The rotated images will appear in the same directory that contains the input images. \n",
    "#    Rotated images will have the suffix \"rotated\" at the end of their file name.\n"
   ]
  },
  {
   "cell_type": "code",
   "execution_count": 1,
   "id": "3149135a-29a1-4919-bd2f-e3364bb3a6ca",
   "metadata": {},
   "outputs": [],
   "source": [
    "import cv2\n",
    "import numpy as np\n",
    "import os\n"
   ]
  },
  {
   "cell_type": "code",
   "execution_count": 59,
   "id": "a3225d28-a211-459f-a898-6fd586388810",
   "metadata": {},
   "outputs": [
    {
     "data": {
      "text/plain": [
       "['AML-Raul_M6cn_1_both_plus100margin_thickened.tif',\n",
       " 'AML-Raul_M6cn_9_both_plus100margin_thickened copy.tif',\n",
       " 'AML-Raul_M6cn_8_both_plus100margin_thickened copy.tif',\n",
       " 'AML-Raul_M6cn_5_both_plus100margin_thickened.tif',\n",
       " 'AML-Raul_M6cn_13_both_plus100margin_thickened.tif',\n",
       " 'AML-Raul_M6cn_9_both_plus100margin_thickened.tif',\n",
       " 'AML-Raul_M6cn_2_both_plus100margin_thickened.tif',\n",
       " 'AML-Raul_M6cn_6_both_plus100margin_thickened.tif',\n",
       " 'AML-Raul_M6cn_10_both_plus100margin_thickened.tif',\n",
       " 'AML-Raul_M6cn_8_both_plus100margin_thickened.tif',\n",
       " 'AML-Raul_M6cn_5_both_plus100margin_thickened copy.tif',\n",
       " 'AML-Raul_M6cn_4_both_plus100margin_thickened copy.tif',\n",
       " 'AML-Raul_M6cn_7_both_plus100margin_thickened copy.tif',\n",
       " 'AML-Raul_M6cn_6_both_plus100margin_thickened copy.tif',\n",
       " 'AML-Raul_M6cn_12_both_plus100margin_thickened copy.tif',\n",
       " 'AML-Raul_M6cn_13_both_plus100margin_thickened copy.tif',\n",
       " 'AML-Raul_M6cn_1_both_plus100margin_thickened copy.tif',\n",
       " 'AML-Raul_M6cn_10_both_plus100margin_thickened copy.tif',\n",
       " 'AML-Raul_M6cn_2_both_plus100margin_thickened copy.tif',\n",
       " 'AML-Raul_M6cn_3_both_plus100margin_thickened copy.tif',\n",
       " 'AML-Raul_M6cn_11_both_plus100margin_thickened copy.tif',\n",
       " 'AML-Raul_M6cn_4_both_plus100margin_thickened.tif',\n",
       " 'AML-Raul_M6cn_12_both_plus100margin_thickened.tif',\n",
       " 'AML-Raul_M6cn_7_both_plus100margin_thickened.tif',\n",
       " 'AML-Raul_M6cn_11_both_plus100margin_thickened.tif',\n",
       " 'AML-Raul_M6cn_3_both_plus100margin_thickened.tif']"
      ]
     },
     "execution_count": 59,
     "metadata": {},
     "output_type": "execute_result"
    }
   ],
   "source": [
    "# Step 1 - Set Working Directory \n",
    "os.chdir('/Users/davidnguyen/Downloads/AML FAB subtypes_at-scale/AML M6/AML M6 both/AML M6 both_masks_crop_thicken_greenline')\n",
    "path = os.getcwd()\n",
    "contents = os.listdir(path)\n",
    "hidden_files = []\n",
    "\n",
    "# Remove hidden files (Mac-related)\n",
    "for item in contents:\n",
    "    if item.startswith(\".\"):\n",
    "        hidden_files.append(item)\n",
    "\n",
    "for item in hidden_files:\n",
    "    contents.remove(item)\n",
    "\n",
    "contents"
   ]
  },
  {
   "cell_type": "code",
   "execution_count": 61,
   "id": "ad1e18e6-c3b6-4361-a8ea-ba7b0c8ccfd3",
   "metadata": {},
   "outputs": [],
   "source": [
    "for file_name in contents:\n",
    "    if file_name.endswith((\"copy.png\", \"copy.jpg\", \"copy.jpeg\", \"copy.tif\")):\n",
    "        try:\n",
    "            # Detect green lines\n",
    "            img = cv2.imread(os.path.join(path, file_name))\n",
    "            if img is None:\n",
    "                raise ValueError(f\"Error loading image: {file_name}\")\n",
    "\n",
    "            hsv = cv2.cvtColor(img, cv2.COLOR_BGR2HSV)\n",
    "            \n",
    "            lower_green = np.array([30, 40, 40])\n",
    "            upper_green = np.array([90, 255, 255])\n",
    "            \n",
    "            mask = cv2.inRange(hsv, lower_green, upper_green)\n",
    "            \n",
    "            lines = cv2.HoughLinesP(mask, 1, np.pi/180, threshold=50, minLineLength=10, maxLineGap=10)\n",
    "            if lines is None:\n",
    "                raise ValueError(f\"No green lines detected in file: {file_name}\")\n",
    "\n",
    "            x1, y1, x2, y2 = lines[0][0]\n",
    "            \n",
    "            cv2.line(img, (x1, y1), (x2, y2), (0, 0, 255), 2)\n",
    "            \n",
    "            angle = np.arctan2(y2 - y1, x2 - x1) * 180 / np.pi\n",
    "\n",
    "            # Determine file extensions\n",
    "            if file_name.endswith(\"copy.png\"):\n",
    "                b_extension = \" copy.png\"\n",
    "                a_extension = \".png\"\n",
    "            elif file_name.endswith(\"copy.jpg\"):\n",
    "                b_extension = \" copy.jpg\"\n",
    "                a_extension = \".jpg\"\n",
    "            elif file_name.endswith(\"copy.jpeg\"):\n",
    "                b_extension = \" copy.jpeg\"\n",
    "                a_extension = \".jpeg\"\n",
    "            elif file_name.endswith(\"copy.tif\"):\n",
    "                b_extension = \" copy.tif\"\n",
    "                a_extension = \".tif\"\n",
    "            \n",
    "            original_img_path = os.path.join(path, file_name.replace(b_extension, a_extension))\n",
    "            original_img = cv2.imread(original_img_path)\n",
    "            if original_img is None:\n",
    "                raise ValueError(f\"Error loading original image: {original_img_path}\")\n",
    "\n",
    "            M = cv2.getRotationMatrix2D((original_img.shape[1]//2, original_img.shape[0]//2), angle, 1)\n",
    "            \n",
    "            rotated_img = cv2.warpAffine(original_img, M, (original_img.shape[1], original_img.shape[0]), \n",
    "                                         borderMode=cv2.BORDER_CONSTANT, borderValue=(255,255,255))\n",
    "\n",
    "            cv2.imwrite(original_img_path.replace(a_extension, \"_rotated\" + a_extension), rotated_img)\n",
    "\n",
    "        except Exception as e:\n",
    "            print(f\"Error processing file {file_name}: {e}\")"
   ]
  },
  {
   "cell_type": "code",
   "execution_count": null,
   "id": "34e164ca-38e1-4f83-91dc-af8b8ee5a54f",
   "metadata": {},
   "outputs": [],
   "source": []
  },
  {
   "cell_type": "code",
   "execution_count": null,
   "id": "06cd34bc-eebc-48ce-af5e-0507b68dd34e",
   "metadata": {},
   "outputs": [],
   "source": []
  },
  {
   "cell_type": "code",
   "execution_count": null,
   "id": "e1397d36-ac68-44b6-811b-8e8905472dfb",
   "metadata": {},
   "outputs": [],
   "source": []
  }
 ],
 "metadata": {
  "kernelspec": {
   "display_name": "Python 3 (ipykernel)",
   "language": "python",
   "name": "python3"
  },
  "language_info": {
   "codemirror_mode": {
    "name": "ipython",
    "version": 3
   },
   "file_extension": ".py",
   "mimetype": "text/x-python",
   "name": "python",
   "nbconvert_exporter": "python",
   "pygments_lexer": "ipython3",
   "version": "3.12.4"
  }
 },
 "nbformat": 4,
 "nbformat_minor": 5
}
